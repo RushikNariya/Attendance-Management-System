{
 "cells": [
  {
   "cell_type": "code",
   "execution_count": 7,
   "id": "7d7e7115",
   "metadata": {},
   "outputs": [],
   "source": [
    "from pandas import DataFrame\n",
    "import pandas as pd\n",
    "import matplotlib.pyplot as plt"
   ]
  },
  {
   "cell_type": "code",
   "execution_count": null,
   "id": "de500989",
   "metadata": {
    "scrolled": false
   },
   "outputs": [
    {
     "name": "stdout",
     "output_type": "stream",
     "text": [
      "Username: 1\n",
      "Password: 1\n",
      "Login successful.\n",
      "Enter 1 for attendance & 2 for showing attendance1\n",
      "enter a subject name-------PS\n",
      "enter a class name------A1\n",
      "first student's rollno for attendance : 2\n",
      "last student's rollno for attendance : 5\n",
      "enter p(present)/a(absent)p\n",
      "enter p(present)/a(absent)p\n",
      "enter p(present)/a(absent)a\n",
      "enter p(present)/a(absent)p\n",
      "complate\n",
      "Enter 1 for attendance & 2 for showing attendance2\n",
      "Enter a roll number for showing attendance4\n",
      "ROLL NO                          4.0\n",
      "NAME       PATEL KRISHNA ARVINDKUMAR\n",
      "PS                               4.0\n",
      "PST                              6.0\n",
      "FSD                              0.0\n",
      "FSDT                             0.0\n",
      "DE                               0.0\n",
      "DET                              0.0\n",
      "FSCP                             0.0\n",
      "FSCPT                            0.0\n",
      "ETC                              0.0\n",
      "ETCT                             0.0\n",
      "Total                            6.0\n",
      "Name: 4, dtype: object\n"
     ]
    },
    {
     "data": {
      "image/png": "[encoded data removed]",
      "text/plain": [
       "<Figure size 432x288 with 1 Axes>"
      ]
     },
     "metadata": {
      "needs_background": "light"
     },
     "output_type": "display_data"
    }
   ],
   "source": [
    "# define the usernames and passwords for teachers\n",
    "teachers = {\"1\": \"1\", \"teacher2\": \"password2\", \"teacher3\": \"password3\"}\n",
    "count=0\n",
    "def login():\n",
    "    # prompt the user for their username and password\n",
    "    username = input(\"Username: \")\n",
    "    password = input(\"Password: \")\n",
    "    global count\n",
    "    global flag\n",
    "    # check if the username and password are valid\n",
    "    if username in teachers and teachers[username] == password:\n",
    "        print(\"Login successful.\")\n",
    "        attendance()\n",
    "        flag = True\n",
    "    else:\n",
    "        count += 1\n",
    "        print(\"Invalid username or password. Please try again.\")\n",
    "# login()\n",
    "        if(count < 3):\n",
    "          login()\n",
    "            \n",
    "        else:\n",
    "            print(\"You can't try more than three time. \")\n",
    "            \n",
    "            \n",
    "            \n",
    "def attendance():\n",
    "    manage=input(\"Enter 1 for attendance & 2 for showing attendance\")\n",
    "    x=[]\n",
    "    l=[\"PS\",\"FSD\",\"DE\",\"FSCP\",\"ETC\"]\n",
    "    if(manage==\"1\"):\n",
    "        sub = input(\"enter a subject name-------\")\n",
    "        cls = input(\"enter a class name------\")\n",
    "        data = pd.read_excel(\"C:\\\\Users\\\\Rushik\\\\PYTHONE IN\\\\clg.xlsx\",sheet_name=cls)\n",
    "        n=int(input(\"first student's rollno for attendance : \"))\n",
    "        n1=int(input(\"last student's rollno for attendance : \"))\n",
    "        for i in range(n,n1+1,1):\n",
    "            present = input(\"enter p(present)/a(absent)\")\n",
    "            \n",
    "            if present == 'p':\n",
    "                data.loc[i,sub] += 1\n",
    "                data.loc[i,sub+\"T\"] += 1\n",
    "                data.loc[i,\"Total\"]+=1\n",
    "            else:\n",
    "                data.loc[i,sub+\"T\"] += 1\n",
    "                data.loc[i,\"Total\"]+=1\n",
    "        data = data.loc[:, ~data.columns.str.contains('^Unnamed')]\n",
    "\n",
    "        data.to_excel(\"C:\\\\Users\\\\Rushik\\\\PYTHONE IN\\\\clg.xlsx\",sheet_name='A1')\n",
    "        print(\"complate\")\n",
    "        attendance()\n",
    "    elif(manage==\"2\"):\n",
    "        roll_no=int(input(\"Enter a roll number for showing attendance\"))\n",
    "        data = pd.read_excel(\"C:\\\\Users\\\\Rushik\\\\PYTHONE IN\\\\clg.xlsx\",sheet_name=\"A1\")\n",
    "        x=[]\n",
    "        x1=[]\n",
    "        l=[\"PS\",\"FSD\",\"DE\",\"FSCP\",\"ETC\",\"total\"]\n",
    "        D=data.loc[roll_no][1:]\n",
    "        print(D)\n",
    "        if D.PST==0:\n",
    "            x.append(0)\n",
    "        else:\n",
    "            x.append((D.PS/D.PST)*100)\n",
    "        if D.FSDT==0:\n",
    "            x.append(0)\n",
    "        else:\n",
    "            x.append((D.FSD/D.FSDT)*100)\n",
    "        if D.DE==0:\n",
    "            x.append(0)\n",
    "        else:\n",
    "            x.append((D.DE/D.DET)*100)\n",
    "        if D.FSCPT==0:\n",
    "            x.append(0)\n",
    "        else:\n",
    "            x.append((D.FSCP/D.FSCPT)*100)\n",
    "        if D.ETC==0:\n",
    "            x.append(0)\n",
    "        else:\n",
    "            x.append((D.ETC/D.ETCT)*100)\n",
    "        x.append(100)\n",
    "        plt.bar(l,x)\n",
    "        plt.show()\n",
    "        attendance()\n",
    "    \n",
    "    elif(manage==\"3\"):\n",
    "            print(\"Thanks For Visit\")\n",
    "            return\n",
    "    else:\n",
    "        print(\"Not a Valid choice !!\")\n",
    "\n",
    "\n",
    "login()"
   ]
  },
  {
   "cell_type": "markdown",
   "id": "511a2946",
   "metadata": {},
   "source": [
    "### "
   ]
  },
  {
   "cell_type": "code",
   "execution_count": null,
   "id": "bf4bb8bd",
   "metadata": {},
   "outputs": [],
   "source": []
  },
  {
   "cell_type": "code",
   "execution_count": null,
   "id": "defc17d3",
   "metadata": {},
   "outputs": [],
   "source": []
  },
  {
   "cell_type": "code",
   "execution_count": null,
   "id": "5750dc55",
   "metadata": {},
   "outputs": [],
   "source": []
  }
 ],
 "metadata": {
  "kernelspec": {
   "display_name": "Python 3 (ipykernel)",
   "language": "python",
   "name": "python3"
  },
  "language_info": {
   "codemirror_mode": {
    "name": "ipython",
    "version": 3
   },
   "file_extension": ".py",
   "mimetype": "text/x-python",
   "name": "python",
   "nbconvert_exporter": "python",
   "pygments_lexer": "ipython3",
   "version": "3.9.12"
  }
 },
 "nbformat": 4,
 "nbformat_minor": 5
}
